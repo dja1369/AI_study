{
  "nbformat": 4,
  "nbformat_minor": 0,
  "metadata": {
    "colab": {
      "name": "Lesk_Algorithm_실습.ipynb",
      "provenance": [],
      "collapsed_sections": []
    },
    "kernelspec": {
      "name": "python3",
      "display_name": "Python 3"
    }
  },
  "cells": [
    {
      "cell_type": "markdown",
      "metadata": {
        "id": "2V5YBS-bs3gW",
        "colab_type": "text"
      },
      "source": [
        "***nltk 패키지 다운로드***"
      ]
    },
    {
      "cell_type": "code",
      "metadata": {
        "id": "AzwbJnE-siDh",
        "colab_type": "code",
        "outputId": "f5f7b5e9-e99b-4e49-eec2-40c140b0f1f5",
        "colab": {
          "base_uri": "https://localhost:8080/",
          "height": 53
        }
      },
      "source": [
        "!pip3 install nltk==3.3"
      ],
      "execution_count": 0,
      "outputs": [
        {
          "output_type": "stream",
          "text": [
            "Requirement already satisfied: nltk==3.3 in /usr/local/lib/python3.6/dist-packages (3.3)\n",
            "Requirement already satisfied: six in /usr/local/lib/python3.6/dist-packages (from nltk==3.3) (1.12.0)\n"
          ],
          "name": "stdout"
        }
      ]
    },
    {
      "cell_type": "markdown",
      "metadata": {
        "id": "Po12R4oGtz6S",
        "colab_type": "text"
      },
      "source": [
        "***wordnet 관련 패키지 nltk import***"
      ]
    },
    {
      "cell_type": "code",
      "metadata": {
        "id": "SknqGJv6tCW-",
        "colab_type": "code",
        "outputId": "59708cc4-ba2e-43b4-861e-062fe6d7032a",
        "colab": {
          "base_uri": "https://localhost:8080/",
          "height": 125
        }
      },
      "source": [
        "import nltk\n",
        "nltk.download('wordnet')\n",
        "nltk.download('punkt')\n",
        "nltk.download('stopwords')\n",
        "from nltk.corpus import wordnet \n",
        "from nltk import word_tokenize\n",
        "from nltk.corpus import stopwords\n",
        "import sys"
      ],
      "execution_count": 0,
      "outputs": [
        {
          "output_type": "stream",
          "text": [
            "[nltk_data] Downloading package wordnet to /root/nltk_data...\n",
            "[nltk_data]   Package wordnet is already up-to-date!\n",
            "[nltk_data] Downloading package punkt to /root/nltk_data...\n",
            "[nltk_data]   Package punkt is already up-to-date!\n",
            "[nltk_data] Downloading package stopwords to /root/nltk_data...\n",
            "[nltk_data]   Package stopwords is already up-to-date!\n"
          ],
          "name": "stdout"
        }
      ]
    },
    {
      "cell_type": "markdown",
      "metadata": {
        "id": "uCfx2tE3uOVe",
        "colab_type": "text"
      },
      "source": [
        "***단어와  문장에 나타난 단어에 대해  Best Sense 추출***"
      ]
    },
    {
      "cell_type": "code",
      "metadata": {
        "id": "8I3ysskcBpYI",
        "colab_type": "code",
        "colab": {}
      },
      "source": [
        "def disambiguate(word, sentence, stopwords):\n",
        "        # Best sense 를 얻기위한 Lesk 알고리즘을 작성해보세요.\n",
        "        \n",
        "        word_senses = wordnet.synsets(word)\n",
        "        best_sense = word_senses[0]  # Assume that first sense is most freq.\n",
        "        max_overlap = 0\n",
        "        context = set(word_tokenize(sentence))\n",
        "        for sense in word_senses:\n",
        "            signature = tokenized_gloss(sense)\n",
        "            overlap = compute_overlap(signature, context, stopwords)\n",
        "            if overlap > max_overlap:\n",
        "                max_overlap = overlap\n",
        "                best_sense = sense\n",
        "                \n",
        "        return best_sense"
      ],
      "execution_count": 0,
      "outputs": []
    },
    {
      "cell_type": "markdown",
      "metadata": {
        "id": "olCLCgPeBv76",
        "colab_type": "text"
      },
      "source": [
        "***sense의 definition에 대한 모든 token 추출***"
      ]
    },
    {
      "cell_type": "code",
      "metadata": {
        "id": "8GrMe88tC1SM",
        "colab_type": "code",
        "colab": {}
      },
      "source": [
        "def tokenized_gloss(sense):\n",
        "        tokens = set(word_tokenize(sense.definition()))\n",
        "        for example in sense.examples():\n",
        "            tokens.union(set(word_tokenize(example)))\n",
        "        return tokens"
      ],
      "execution_count": 0,
      "outputs": []
    },
    {
      "cell_type": "markdown",
      "metadata": {
        "id": "Kk0kzsW6BwvS",
        "colab_type": "text"
      },
      "source": [
        "***겹치는 단어 비교***"
      ]
    },
    {
      "cell_type": "code",
      "metadata": {
        "id": "gcduxEp5DH-T",
        "colab_type": "code",
        "colab": {}
      },
      "source": [
        "def compute_overlap(signature, context, stopwords):\n",
        "        gloss = signature.difference(stopwords)\n",
        "        return len(gloss.intersection(context))"
      ],
      "execution_count": 0,
      "outputs": []
    },
    {
      "cell_type": "markdown",
      "metadata": {
        "id": "_WbpC6W6uXDz",
        "colab_type": "text"
      },
      "source": [
        "***Main***"
      ]
    },
    {
      "cell_type": "code",
      "metadata": {
        "id": "xdqUjnqLuZJh",
        "colab_type": "code",
        "outputId": "7799407e-975b-445e-bb44-fa5727f012da",
        "colab": {
          "base_uri": "https://localhost:8080/",
          "height": 143
        }
      },
      "source": [
        "stopwords = set(stopwords.words('english'))# NLTK에서 지정한 영어 불용어 처리 ex) i, my, they...\n",
        "sentence = (\"They eat a meal\")\n",
        "context = set(word_tokenize(sentence))\n",
        "word = 'eat'\n",
        "\n",
        "print(\"Word :\", word)\n",
        "syn = wordnet.synsets('eat')[1]\n",
        "print(\"Sense :\", syn.name())\n",
        "print(\"Definition :\", syn.definition())\n",
        "print(\"Sentence :\", sentence)\n",
        "\n",
        "signature = tokenized_gloss(syn)\n",
        "print(signature)\n",
        "print(compute_overlap(signature, context, stopwords))\n",
        "print(\"Best sense: \", disambiguate(word, sentence, stopwords))"
      ],
      "execution_count": 0,
      "outputs": [
        {
          "output_type": "stream",
          "text": [
            "Word : eat\n",
            "Sense : eat.v.02\n",
            "Definition : eat a meal; take a meal\n",
            "Sentence : They eat a meal\n",
            "{';', 'a', 'meal', 'eat', 'take'}\n",
            "2\n",
            "Best sense:  Synset('eat.v.02')\n"
          ],
          "name": "stdout"
        }
      ]
    }
  ]
}