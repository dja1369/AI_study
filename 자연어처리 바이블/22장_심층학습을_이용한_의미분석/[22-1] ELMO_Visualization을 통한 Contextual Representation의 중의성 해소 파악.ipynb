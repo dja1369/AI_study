{
  "nbformat": 4,
  "nbformat_minor": 0,
  "metadata": {
    "colab": {
      "name": "ELMO_Visualizing.ipynb",
      "provenance": [],
      "collapsed_sections": []
    },
    "kernelspec": {
      "name": "python3",
      "display_name": "Python 3"
    }
  },
  "cells": [
    {
      "cell_type": "markdown",
      "metadata": {
        "id": "7PoiqS-1LYAJ",
        "colab_type": "text"
      },
      "source": [
        "https://github.com/hengluchang/visualizing_contextual_vectors\n",
        "이 소스는 위의 github주소에 기반합니다."
      ]
    },
    {
      "cell_type": "markdown",
      "metadata": {
        "id": "vUY_DSieRTTm",
        "colab_type": "text"
      },
      "source": [
        "***ELMO Visualization을 위한 파이썬 패키지 설치***"
      ]
    },
    {
      "cell_type": "code",
      "metadata": {
        "id": "F_zqqWnH-s5M",
        "colab_type": "code",
        "outputId": "36b0e8f7-b177-424f-d7c1-c4d429496800",
        "colab": {
          "base_uri": "https://localhost:8080/",
          "height": 1000
        }
      },
      "source": [
        "!pip3 install allennlp\n",
        "!pip3 install sklearn\n",
        "!pip3 install matplotlib\n",
        "!pip3 install numpy"
      ],
      "execution_count": 0,
      "outputs": [
        {
          "output_type": "stream",
          "text": [
            "Collecting allennlp\n",
            "\u001b[?25l  Downloading https://files.pythonhosted.org/packages/bb/bb/041115d8bad1447080e5d1e30097c95e4b66e36074277afce8620a61cee3/allennlp-0.9.0-py3-none-any.whl (7.6MB)\n",
            "\u001b[K     |████████████████████████████████| 7.6MB 4.7MB/s \n",
            "\u001b[?25hRequirement already satisfied: tqdm>=4.19 in /usr/local/lib/python3.6/dist-packages (from allennlp) (4.28.1)\n",
            "Requirement already satisfied: h5py in /usr/local/lib/python3.6/dist-packages (from allennlp) (2.8.0)\n",
            "Collecting conllu==1.3.1\n",
            "  Downloading https://files.pythonhosted.org/packages/ae/54/b0ae1199f3d01666821b028cd967f7c0ac527ab162af433d3da69242cea2/conllu-1.3.1-py2.py3-none-any.whl\n",
            "Requirement already satisfied: matplotlib>=2.2.3 in /usr/local/lib/python3.6/dist-packages (from allennlp) (3.1.2)\n",
            "Requirement already satisfied: requests>=2.18 in /usr/local/lib/python3.6/dist-packages (from allennlp) (2.21.0)\n",
            "Requirement already satisfied: gevent>=1.3.6 in /usr/local/lib/python3.6/dist-packages (from allennlp) (1.4.0)\n",
            "Requirement already satisfied: sqlparse>=0.2.4 in /usr/local/lib/python3.6/dist-packages (from allennlp) (0.3.0)\n",
            "Requirement already satisfied: numpy in /usr/local/lib/python3.6/dist-packages (from allennlp) (1.17.4)\n",
            "Collecting jsonnet>=0.10.0; sys_platform != \"win32\"\n",
            "\u001b[?25l  Downloading https://files.pythonhosted.org/packages/fe/a6/e69e38f1f259fcf8532d8bd2c4bc88764f42d7b35a41423a7f4b035cc5ce/jsonnet-0.14.0.tar.gz (253kB)\n",
            "\u001b[K     |████████████████████████████████| 256kB 38.2MB/s \n",
            "\u001b[?25hCollecting responses>=0.7\n",
            "  Downloading https://files.pythonhosted.org/packages/6e/e1/a078cbbbe088d1099ea73a6bb4cd08a10ec9ab35153eed0d86b8f3802ee8/responses-0.10.7-py2.py3-none-any.whl\n",
            "Collecting jsonpickle\n",
            "  Downloading https://files.pythonhosted.org/packages/07/07/c157520a3ebd166c8c24c6ae0ecae7c3968eb4653ff0e5af369bb82f004d/jsonpickle-1.2-py2.py3-none-any.whl\n",
            "Requirement already satisfied: scikit-learn in /usr/local/lib/python3.6/dist-packages (from allennlp) (0.21.3)\n",
            "Collecting pytorch-transformers==1.1.0\n",
            "\u001b[?25l  Downloading https://files.pythonhosted.org/packages/50/89/ad0d6bb932d0a51793eaabcf1617a36ff530dc9ab9e38f765a35dc293306/pytorch_transformers-1.1.0-py3-none-any.whl (158kB)\n",
            "\u001b[K     |████████████████████████████████| 163kB 50.0MB/s \n",
            "\u001b[?25hRequirement already satisfied: spacy<2.2,>=2.1.0 in /usr/local/lib/python3.6/dist-packages (from allennlp) (2.1.9)\n",
            "Requirement already satisfied: pytz>=2017.3 in /usr/local/lib/python3.6/dist-packages (from allennlp) (2018.9)\n",
            "Requirement already satisfied: editdistance in /usr/local/lib/python3.6/dist-packages (from allennlp) (0.5.3)\n",
            "Collecting tensorboardX>=1.2\n",
            "\u001b[?25l  Downloading https://files.pythonhosted.org/packages/a6/5c/e918d9f190baab8d55bad52840d8091dd5114cc99f03eaa6d72d404503cc/tensorboardX-1.9-py2.py3-none-any.whl (190kB)\n",
            "\u001b[K     |████████████████████████████████| 194kB 44.8MB/s \n",
            "\u001b[?25hCollecting flask-cors>=3.0.7\n",
            "  Downloading https://files.pythonhosted.org/packages/78/38/e68b11daa5d613e3a91e4bf3da76c94ac9ee0d9cd515af9c1ab80d36f709/Flask_Cors-3.0.8-py2.py3-none-any.whl\n",
            "Requirement already satisfied: flask>=1.0.2 in /usr/local/lib/python3.6/dist-packages (from allennlp) (1.1.1)\n",
            "Collecting numpydoc>=0.8.0\n",
            "  Downloading https://files.pythonhosted.org/packages/6a/f3/7cfe4c616e4b9fe05540256cc9c6661c052c8a4cec2915732793b36e1843/numpydoc-0.9.1.tar.gz\n",
            "Requirement already satisfied: torch>=1.2.0 in /usr/local/lib/python3.6/dist-packages (from allennlp) (1.3.1)\n",
            "Collecting unidecode\n",
            "\u001b[?25l  Downloading https://files.pythonhosted.org/packages/d0/42/d9edfed04228bacea2d824904cae367ee9efd05e6cce7ceaaedd0b0ad964/Unidecode-1.1.1-py2.py3-none-any.whl (238kB)\n",
            "\u001b[K     |████████████████████████████████| 245kB 45.5MB/s \n",
            "\u001b[?25hCollecting flaky\n",
            "  Downloading https://files.pythonhosted.org/packages/fe/12/0f169abf1aa07c7edef4855cca53703d2e6b7ecbded7829588ac7e7e3424/flaky-3.6.1-py2.py3-none-any.whl\n",
            "Collecting parsimonious>=0.8.0\n",
            "\u001b[?25l  Downloading https://files.pythonhosted.org/packages/02/fc/067a3f89869a41009e1a7cdfb14725f8ddd246f30f63c645e8ef8a1c56f4/parsimonious-0.8.1.tar.gz (45kB)\n",
            "\u001b[K     |████████████████████████████████| 51kB 6.6MB/s \n",
            "\u001b[?25hRequirement already satisfied: nltk in /usr/local/lib/python3.6/dist-packages (from allennlp) (3.2.5)\n",
            "Requirement already satisfied: pytest in /usr/local/lib/python3.6/dist-packages (from allennlp) (3.6.4)\n",
            "Collecting ftfy\n",
            "\u001b[?25l  Downloading https://files.pythonhosted.org/packages/75/ca/2d9a5030eaf1bcd925dab392762b9709a7ad4bd486a90599d93cd79cb188/ftfy-5.6.tar.gz (58kB)\n",
            "\u001b[K     |████████████████████████████████| 61kB 7.1MB/s \n",
            "\u001b[?25hCollecting pytorch-pretrained-bert>=0.6.0\n",
            "\u001b[?25l  Downloading https://files.pythonhosted.org/packages/d7/e0/c08d5553b89973d9a240605b9c12404bcf8227590de62bae27acbcfe076b/pytorch_pretrained_bert-0.6.2-py3-none-any.whl (123kB)\n",
            "\u001b[K     |████████████████████████████████| 133kB 53.5MB/s \n",
            "\u001b[?25hCollecting overrides\n",
            "  Downloading https://files.pythonhosted.org/packages/8b/a0/0d4a9dcd28de9bf263e9436b5876ba199cc4e4a19d0dc4e85eed657b1b77/overrides-2.5.tar.gz\n",
            "Requirement already satisfied: scipy in /usr/local/lib/python3.6/dist-packages (from allennlp) (1.3.3)\n",
            "Requirement already satisfied: boto3 in /usr/local/lib/python3.6/dist-packages (from allennlp) (1.10.32)\n",
            "Collecting word2number>=1.1\n",
            "  Downloading https://files.pythonhosted.org/packages/4a/29/a31940c848521f0725f0df6b25dca8917f13a2025b0e8fcbe5d0457e45e6/word2number-1.1.zip\n",
            "Requirement already satisfied: six in /usr/local/lib/python3.6/dist-packages (from h5py->allennlp) (1.12.0)\n",
            "Requirement already satisfied: kiwisolver>=1.0.1 in /usr/local/lib/python3.6/dist-packages (from matplotlib>=2.2.3->allennlp) (1.1.0)\n",
            "Requirement already satisfied: python-dateutil>=2.1 in /usr/local/lib/python3.6/dist-packages (from matplotlib>=2.2.3->allennlp) (2.6.1)\n",
            "Requirement already satisfied: pyparsing!=2.0.4,!=2.1.2,!=2.1.6,>=2.0.1 in /usr/local/lib/python3.6/dist-packages (from matplotlib>=2.2.3->allennlp) (2.4.5)\n",
            "Requirement already satisfied: cycler>=0.10 in /usr/local/lib/python3.6/dist-packages (from matplotlib>=2.2.3->allennlp) (0.10.0)\n",
            "Requirement already satisfied: idna<2.9,>=2.5 in /usr/local/lib/python3.6/dist-packages (from requests>=2.18->allennlp) (2.8)\n",
            "Requirement already satisfied: certifi>=2017.4.17 in /usr/local/lib/python3.6/dist-packages (from requests>=2.18->allennlp) (2019.11.28)\n",
            "Requirement already satisfied: urllib3<1.25,>=1.21.1 in /usr/local/lib/python3.6/dist-packages (from requests>=2.18->allennlp) (1.24.3)\n",
            "Requirement already satisfied: chardet<3.1.0,>=3.0.2 in /usr/local/lib/python3.6/dist-packages (from requests>=2.18->allennlp) (3.0.4)\n",
            "Requirement already satisfied: greenlet>=0.4.14; platform_python_implementation == \"CPython\" in /usr/local/lib/python3.6/dist-packages (from gevent>=1.3.6->allennlp) (0.4.15)\n",
            "Requirement already satisfied: joblib>=0.11 in /usr/local/lib/python3.6/dist-packages (from scikit-learn->allennlp) (0.14.0)\n",
            "Collecting sentencepiece\n",
            "\u001b[?25l  Downloading https://files.pythonhosted.org/packages/14/3d/efb655a670b98f62ec32d66954e1109f403db4d937c50d779a75b9763a29/sentencepiece-0.1.83-cp36-cp36m-manylinux1_x86_64.whl (1.0MB)\n",
            "\u001b[K     |████████████████████████████████| 1.0MB 45.2MB/s \n",
            "\u001b[?25hCollecting regex\n",
            "\u001b[?25l  Downloading https://files.pythonhosted.org/packages/8c/db/4b29a0adec5881542cd81cb5d1929b5c0787003c5740b3c921e627d9c2e5/regex-2019.12.9.tar.gz (669kB)\n",
            "\u001b[K     |████████████████████████████████| 675kB 52.9MB/s \n",
            "\u001b[?25hRequirement already satisfied: wasabi<1.1.0,>=0.2.0 in /usr/local/lib/python3.6/dist-packages (from spacy<2.2,>=2.1.0->allennlp) (0.4.2)\n",
            "Requirement already satisfied: plac<1.0.0,>=0.9.6 in /usr/local/lib/python3.6/dist-packages (from spacy<2.2,>=2.1.0->allennlp) (0.9.6)\n",
            "Requirement already satisfied: thinc<7.1.0,>=7.0.8 in /usr/local/lib/python3.6/dist-packages (from spacy<2.2,>=2.1.0->allennlp) (7.0.8)\n",
            "Requirement already satisfied: cymem<2.1.0,>=2.0.2 in /usr/local/lib/python3.6/dist-packages (from spacy<2.2,>=2.1.0->allennlp) (2.0.3)\n",
            "Requirement already satisfied: srsly<1.1.0,>=0.0.6 in /usr/local/lib/python3.6/dist-packages (from spacy<2.2,>=2.1.0->allennlp) (0.2.0)\n",
            "Requirement already satisfied: blis<0.3.0,>=0.2.2 in /usr/local/lib/python3.6/dist-packages (from spacy<2.2,>=2.1.0->allennlp) (0.2.4)\n",
            "Requirement already satisfied: murmurhash<1.1.0,>=0.28.0 in /usr/local/lib/python3.6/dist-packages (from spacy<2.2,>=2.1.0->allennlp) (1.0.2)\n",
            "Requirement already satisfied: preshed<2.1.0,>=2.0.1 in /usr/local/lib/python3.6/dist-packages (from spacy<2.2,>=2.1.0->allennlp) (2.0.1)\n",
            "Requirement already satisfied: protobuf>=3.8.0 in /usr/local/lib/python3.6/dist-packages (from tensorboardX>=1.2->allennlp) (3.10.0)\n",
            "Requirement already satisfied: itsdangerous>=0.24 in /usr/local/lib/python3.6/dist-packages (from flask>=1.0.2->allennlp) (1.1.0)\n",
            "Requirement already satisfied: click>=5.1 in /usr/local/lib/python3.6/dist-packages (from flask>=1.0.2->allennlp) (7.0)\n",
            "Requirement already satisfied: Jinja2>=2.10.1 in /usr/local/lib/python3.6/dist-packages (from flask>=1.0.2->allennlp) (2.10.3)\n",
            "Requirement already satisfied: Werkzeug>=0.15 in /usr/local/lib/python3.6/dist-packages (from flask>=1.0.2->allennlp) (0.16.0)\n",
            "Requirement already satisfied: sphinx>=1.6.5 in /usr/local/lib/python3.6/dist-packages (from numpydoc>=0.8.0->allennlp) (1.8.5)\n",
            "Requirement already satisfied: attrs>=17.4.0 in /usr/local/lib/python3.6/dist-packages (from pytest->allennlp) (19.3.0)\n",
            "Requirement already satisfied: atomicwrites>=1.0 in /usr/local/lib/python3.6/dist-packages (from pytest->allennlp) (1.3.0)\n",
            "Requirement already satisfied: more-itertools>=4.0.0 in /usr/local/lib/python3.6/dist-packages (from pytest->allennlp) (8.0.0)\n",
            "Requirement already satisfied: pluggy<0.8,>=0.5 in /usr/local/lib/python3.6/dist-packages (from pytest->allennlp) (0.7.1)\n",
            "Requirement already satisfied: py>=1.5.0 in /usr/local/lib/python3.6/dist-packages (from pytest->allennlp) (1.8.0)\n",
            "Requirement already satisfied: setuptools in /usr/local/lib/python3.6/dist-packages (from pytest->allennlp) (42.0.2)\n",
            "Requirement already satisfied: wcwidth in /usr/local/lib/python3.6/dist-packages (from ftfy->allennlp) (0.1.7)\n",
            "Requirement already satisfied: botocore<1.14.0,>=1.13.32 in /usr/local/lib/python3.6/dist-packages (from boto3->allennlp) (1.13.32)\n",
            "Requirement already satisfied: s3transfer<0.3.0,>=0.2.0 in /usr/local/lib/python3.6/dist-packages (from boto3->allennlp) (0.2.1)\n",
            "Requirement already satisfied: jmespath<1.0.0,>=0.7.1 in /usr/local/lib/python3.6/dist-packages (from boto3->allennlp) (0.9.4)\n",
            "Requirement already satisfied: MarkupSafe>=0.23 in /usr/local/lib/python3.6/dist-packages (from Jinja2>=2.10.1->flask>=1.0.2->allennlp) (1.1.1)\n",
            "Requirement already satisfied: imagesize in /usr/local/lib/python3.6/dist-packages (from sphinx>=1.6.5->numpydoc>=0.8.0->allennlp) (1.1.0)\n",
            "Requirement already satisfied: packaging in /usr/local/lib/python3.6/dist-packages (from sphinx>=1.6.5->numpydoc>=0.8.0->allennlp) (19.2)\n",
            "Requirement already satisfied: Pygments>=2.0 in /usr/local/lib/python3.6/dist-packages (from sphinx>=1.6.5->numpydoc>=0.8.0->allennlp) (2.1.3)\n",
            "Requirement already satisfied: docutils>=0.11 in /usr/local/lib/python3.6/dist-packages (from sphinx>=1.6.5->numpydoc>=0.8.0->allennlp) (0.15.2)\n",
            "Requirement already satisfied: alabaster<0.8,>=0.7 in /usr/local/lib/python3.6/dist-packages (from sphinx>=1.6.5->numpydoc>=0.8.0->allennlp) (0.7.12)\n",
            "Requirement already satisfied: sphinxcontrib-websupport in /usr/local/lib/python3.6/dist-packages (from sphinx>=1.6.5->numpydoc>=0.8.0->allennlp) (1.1.2)\n",
            "Requirement already satisfied: snowballstemmer>=1.1 in /usr/local/lib/python3.6/dist-packages (from sphinx>=1.6.5->numpydoc>=0.8.0->allennlp) (2.0.0)\n",
            "Requirement already satisfied: babel!=2.0,>=1.3 in /usr/local/lib/python3.6/dist-packages (from sphinx>=1.6.5->numpydoc>=0.8.0->allennlp) (2.7.0)\n",
            "Building wheels for collected packages: jsonnet, numpydoc, parsimonious, ftfy, overrides, word2number, regex\n",
            "  Building wheel for jsonnet (setup.py) ... \u001b[?25l\u001b[?25hdone\n",
            "  Created wheel for jsonnet: filename=jsonnet-0.14.0-cp36-cp36m-linux_x86_64.whl size=3320324 sha256=4bd5844fab69710e2415ec2c9c2e25c067842f8e8c03ee46a6f636f03116301d\n",
            "  Stored in directory: /root/.cache/pip/wheels/5b/b7/83/985f0f758fbb34f14989a0fab86d18890d1cc5ae12f26967bc\n",
            "  Building wheel for numpydoc (setup.py) ... \u001b[?25l\u001b[?25hdone\n",
            "  Created wheel for numpydoc: filename=numpydoc-0.9.1-cp36-none-any.whl size=31872 sha256=3c0f58c8677824d6a9f8a93e95a007bb1df04ab5b49c3f5ea7e5bc7ad9cae523\n",
            "  Stored in directory: /root/.cache/pip/wheels/51/30/d1/92a39ba40f21cb70e53f8af96eb98f002a781843c065406500\n",
            "  Building wheel for parsimonious (setup.py) ... \u001b[?25l\u001b[?25hdone\n",
            "  Created wheel for parsimonious: filename=parsimonious-0.8.1-cp36-none-any.whl size=42709 sha256=80bca4f6d302fddb02be8ec5f8b7fa1b6fa1d636e13e216db2b1f48ca267861d\n",
            "  Stored in directory: /root/.cache/pip/wheels/b7/8d/e7/a0e74217da5caeb3c1c7689639b6d28ddbf9985b840bc96a9a\n",
            "  Building wheel for ftfy (setup.py) ... \u001b[?25l\u001b[?25hdone\n",
            "  Created wheel for ftfy: filename=ftfy-5.6-cp36-none-any.whl size=44553 sha256=3396aa9bf3ee90fbaac317e6cb569cf2dd1b70ce3a60f40ccedbb58d87bb8adf\n",
            "  Stored in directory: /root/.cache/pip/wheels/43/34/ce/cbb38d71543c408de56f3c5e26ce8ba495a0fa5a28eaaf1046\n",
            "  Building wheel for overrides (setup.py) ... \u001b[?25l\u001b[?25hdone\n",
            "  Created wheel for overrides: filename=overrides-2.5-cp36-none-any.whl size=5407 sha256=9338a3a771f05ec4016f5b5c1bc3b1d7649082c9914a50e5d25411c221c47a50\n",
            "  Stored in directory: /root/.cache/pip/wheels/be/56/0c/f5ce8e2403ae7d881e5d638fca1c1c5d21dac8eb6df5a6950f\n",
            "  Building wheel for word2number (setup.py) ... \u001b[?25l\u001b[?25hdone\n",
            "  Created wheel for word2number: filename=word2number-1.1-cp36-none-any.whl size=5588 sha256=197bacc9b9aed3d2dcb8b4310d7b50382410a5e7bf4a9d3f56edc111d0092b9e\n",
            "  Stored in directory: /root/.cache/pip/wheels/46/2f/53/5f5c1d275492f2fce1cdab9a9bb12d49286dead829a4078e0e\n",
            "  Building wheel for regex (setup.py) ... \u001b[?25l\u001b[?25hdone\n",
            "  Created wheel for regex: filename=regex-2019.12.9-cp36-cp36m-linux_x86_64.whl size=609176 sha256=77d5a72697a8c1ecd0da8025c0b219f31433119404adcbb1702dde0caaffe867\n",
            "  Stored in directory: /root/.cache/pip/wheels/0d/fb/b3/a89169557229468c49ca64f6839418f22461f6ee0a74f342b1\n",
            "Successfully built jsonnet numpydoc parsimonious ftfy overrides word2number regex\n",
            "Installing collected packages: conllu, jsonnet, responses, jsonpickle, sentencepiece, regex, pytorch-transformers, tensorboardX, flask-cors, numpydoc, unidecode, flaky, parsimonious, ftfy, pytorch-pretrained-bert, overrides, word2number, allennlp\n",
            "Successfully installed allennlp-0.9.0 conllu-1.3.1 flaky-3.6.1 flask-cors-3.0.8 ftfy-5.6 jsonnet-0.14.0 jsonpickle-1.2 numpydoc-0.9.1 overrides-2.5 parsimonious-0.8.1 pytorch-pretrained-bert-0.6.2 pytorch-transformers-1.1.0 regex-2019.12.9 responses-0.10.7 sentencepiece-0.1.83 tensorboardX-1.9 unidecode-1.1.1 word2number-1.1\n",
            "Requirement already satisfied: sklearn in /usr/local/lib/python3.6/dist-packages (0.0)\n",
            "Requirement already satisfied: scikit-learn in /usr/local/lib/python3.6/dist-packages (from sklearn) (0.21.3)\n",
            "Requirement already satisfied: numpy>=1.11.0 in /usr/local/lib/python3.6/dist-packages (from scikit-learn->sklearn) (1.17.4)\n",
            "Requirement already satisfied: scipy>=0.17.0 in /usr/local/lib/python3.6/dist-packages (from scikit-learn->sklearn) (1.3.3)\n",
            "Requirement already satisfied: joblib>=0.11 in /usr/local/lib/python3.6/dist-packages (from scikit-learn->sklearn) (0.14.0)\n",
            "Requirement already satisfied: matplotlib in /usr/local/lib/python3.6/dist-packages (3.1.2)\n",
            "Requirement already satisfied: cycler>=0.10 in /usr/local/lib/python3.6/dist-packages (from matplotlib) (0.10.0)\n",
            "Requirement already satisfied: numpy>=1.11 in /usr/local/lib/python3.6/dist-packages (from matplotlib) (1.17.4)\n",
            "Requirement already satisfied: kiwisolver>=1.0.1 in /usr/local/lib/python3.6/dist-packages (from matplotlib) (1.1.0)\n",
            "Requirement already satisfied: pyparsing!=2.0.4,!=2.1.2,!=2.1.6,>=2.0.1 in /usr/local/lib/python3.6/dist-packages (from matplotlib) (2.4.5)\n",
            "Requirement already satisfied: python-dateutil>=2.1 in /usr/local/lib/python3.6/dist-packages (from matplotlib) (2.6.1)\n",
            "Requirement already satisfied: six in /usr/local/lib/python3.6/dist-packages (from cycler>=0.10->matplotlib) (1.12.0)\n",
            "Requirement already satisfied: setuptools in /usr/local/lib/python3.6/dist-packages (from kiwisolver>=1.0.1->matplotlib) (42.0.2)\n",
            "Requirement already satisfied: numpy in /usr/local/lib/python3.6/dist-packages (1.17.4)\n"
          ],
          "name": "stdout"
        }
      ]
    },
    {
      "cell_type": "markdown",
      "metadata": {
        "id": "1OlkJQz-Rq-W",
        "colab_type": "text"
      },
      "source": [
        "***패키지 import***"
      ]
    },
    {
      "cell_type": "code",
      "metadata": {
        "id": "9O62exkSRfII",
        "colab_type": "code",
        "colab": {}
      },
      "source": [
        "from collections import OrderedDict\n",
        "\n",
        "import numpy as np\n",
        "from allennlp.commands.elmo import ElmoEmbedder\n",
        "from sklearn.decomposition import PCA"
      ],
      "execution_count": 0,
      "outputs": []
    },
    {
      "cell_type": "markdown",
      "metadata": {
        "id": "96XWPi-hRkgz",
        "colab_type": "text"
      },
      "source": [
        "***ELMO 클래스 선언***"
      ]
    },
    {
      "cell_type": "code",
      "metadata": {
        "id": "S-sQsQ-FRx0A",
        "colab_type": "code",
        "colab": {}
      },
      "source": [
        "class Elmo:\n",
        "    def __init__(self):\n",
        "        self.elmo = ElmoEmbedder()\n",
        "    \n",
        "    # ELMO 벡터 반환 함수.\n",
        "    # 입력 token들과 layer에 따라 반환\n",
        "    def get_elmo_vector(self, tokens, layer):\n",
        "        vectors = self.elmo.embed_sentence(tokens)\n",
        "        X = []\n",
        "        for vector in vectors[layer]:\n",
        "            X.append(vector)\n",
        "\n",
        "        X = np.array(X)\n",
        "\n",
        "        return X"
      ],
      "execution_count": 0,
      "outputs": []
    },
    {
      "cell_type": "markdown",
      "metadata": {
        "id": "QKiH41uCR-9g",
        "colab_type": "text"
      },
      "source": [
        "***차원 축소 함수***"
      ]
    },
    {
      "cell_type": "code",
      "metadata": {
        "id": "RsHv10BPSF3K",
        "colab_type": "code",
        "colab": {}
      },
      "source": [
        "def dim_reduction(X, n):\n",
        "    pca = PCA(n_components=n)\n",
        "    print(\"size of X: {}\".format(X.shape))\n",
        "    results = pca.fit_transform(X)\n",
        "    print(\"size of reduced X: {}\".format(results.shape))\n",
        "\n",
        "    for i, ratio in enumerate(pca.explained_variance_ratio_):\n",
        "        print(\"Variance retained ratio of PCA-{}: {}\".format(i+1, ratio))\n",
        "\n",
        "    return results"
      ],
      "execution_count": 0,
      "outputs": []
    },
    {
      "cell_type": "markdown",
      "metadata": {
        "id": "sKIfQHguSIDE",
        "colab_type": "text"
      },
      "source": [
        "***2차원으로 표현된 벡터 png파일로 저장하는 함수***"
      ]
    },
    {
      "cell_type": "code",
      "metadata": {
        "id": "d1y5HlRUSSkL",
        "colab_type": "code",
        "colab": {}
      },
      "source": [
        "def plot(word, token_list, reduced_X, file_name, title):\n",
        "    import matplotlib.pyplot as plt\n",
        "    fig, ax = plt.subplots()\n",
        "\n",
        "    # plot ELMo vectors\n",
        "    i = 0\n",
        "    for j, token in enumerate(token_list):\n",
        "        color = pick_color(j)\n",
        "        for _, w in enumerate(token):\n",
        "\n",
        "            # only plot the word of interest\n",
        "            if w.lower() in [word, word + 's', word + 'ing', word + 'ed']:\n",
        "                ax.plot(reduced_X[i, 0], reduced_X[i, 1], color)\n",
        "            i += 1\n",
        "\n",
        "    tokens = []\n",
        "    for token in token_list:\n",
        "        tokens += token\n",
        "\n",
        "    # annotate point\n",
        "    k = 0\n",
        "    for i, token in enumerate(tokens):\n",
        "        if token.lower() in [word, word + 's', word + 'ing', word + 'ed']:\n",
        "            text = ' '.join(token_list[k])\n",
        "\n",
        "            # bold the word of interest in the sentence\n",
        "            text = text.replace(token, r\"$\\bf{\" + token + \"}$\")\n",
        "\n",
        "            plt.annotate(text, xy=(reduced_X[i, 0], reduced_X[i, 1]))\n",
        "            k += 1\n",
        "\n",
        "    ax.set_title(title)\n",
        "    ax.set_xlabel(\"PCA 1\")\n",
        "    ax.set_ylabel(\"PCA 2\")\n",
        "    fig.savefig(file_name, bbox_inches=\"tight\")\n",
        "\n",
        "    print(\"{} saved\\n\".format(file_name))"
      ],
      "execution_count": 0,
      "outputs": []
    },
    {
      "cell_type": "markdown",
      "metadata": {
        "id": "FnwWgqWySU-C",
        "colab_type": "text"
      },
      "source": [
        "***벡터에 표현된 point 색지정***"
      ]
    },
    {
      "cell_type": "code",
      "metadata": {
        "id": "YvTDda-_SeJ3",
        "colab_type": "code",
        "colab": {}
      },
      "source": [
        "def pick_color(i):\n",
        "    if i == 0:\n",
        "        color = 'ro'\n",
        "    elif i == 1:\n",
        "        color = 'bo'\n",
        "    elif i == 2:\n",
        "        color = 'yo'\n",
        "    elif i == 3:\n",
        "        color = 'go'\n",
        "    else:\n",
        "        color = 'co'\n",
        "    return color"
      ],
      "execution_count": 0,
      "outputs": []
    },
    {
      "cell_type": "markdown",
      "metadata": {
        "id": "PuBeoU-ySg1Z",
        "colab_type": "text"
      },
      "source": [
        "***Main***"
      ]
    },
    {
      "cell_type": "code",
      "metadata": {
        "id": "pYerVjsFSitA",
        "colab_type": "code",
        "outputId": "e848d57a-e693-443e-ccdb-648483429117",
        "colab": {
          "base_uri": "https://localhost:8080/",
          "height": 861
        }
      },
      "source": [
        "if __name__ == \"__main__\":\n",
        "    model = Elmo()\n",
        "    # Bank에 대한 문장 선언.\n",
        "#     banks = OrderedDict()\n",
        "#     # 은행관련 문장\n",
        "#     banks[0] = \"One can deposit money at the bank\"\n",
        "#     # 강둑관련 문장\n",
        "#     banks[1] = \"He had a nice walk along the river bank\"\n",
        "#     # 은행관련 문장\n",
        "#     banks[2] = \"I withdrew cash from the bank\"\n",
        "#     # 강둑관련 문장\n",
        "#     banks[3] = \"The river bank was not clean\"\n",
        "#     # 은행관련 문장\n",
        "#     banks[4] = \"My wife and I have a joint bank account\"\n",
        "    \n",
        "    \n",
        "#     # Work에 대한 문장 선언.\n",
        "#     works = OrderedDict()\n",
        "#     # 명사로써 이해\n",
        "#     works[0] = \"I like this beautiful work by Andy Warhol\"\n",
        "#     # 동사로써 이해\n",
        "#     works[1] = \"Employee works hard every day\"\n",
        "#     # 동사로써 이해\n",
        "#     works[2] = \"My sister works at Starbucks\"\n",
        "#     # 명사로써 이해\n",
        "#     works[3] = \"This amazing work was done in the early nineteenth century\"\n",
        "#     # 동사로써 이해\n",
        "#     works[4] = \"Hundreds of people work in this building\"\n",
        "    \n",
        "    # Plants에 관련 문장 선언. \n",
        "    plants = OrderedDict()\n",
        "    # 심는다의 의미.\n",
        "    plants[0] = \"The gardener planted some trees in my yard\"\n",
        "    # 심는다의 의미.\n",
        "    plants[1] = \"I plan to plant a Joshua tree tomorrow\"\n",
        "    # 심는다의 의미.\n",
        "    plants[2] = \"My sister planted a seed and hopes it will grow to a tree\"\n",
        "    # 식물의 의미.\n",
        "    plants[3] = \"This kind of plant only grows in the subtropical region\"\n",
        "     # 식물의 의미.\n",
        "    plants[4] = \"Most of the plants will die without water\"\n",
        "\n",
        "    words = {\n",
        "#         \"bank\": banks,\n",
        "#         \"work\": works,\n",
        "        \"plant\": plants\n",
        "    }\n",
        "\n",
        "    # Elmo의 Layer마다의 출력 결과 비교.\n",
        "    for layer in [1, 2]:\n",
        "        for word, sentences in words.items():\n",
        "            print(\"visualizing word {} using ELMo layer {}\".format(word, layer))\n",
        "            X = np.concatenate([model.get_elmo_vector(tokens=sentences[idx].split(),\n",
        "                                                      layer=layer)\n",
        "                                for idx, _ in enumerate(sentences)], axis=0)\n",
        "\n",
        "            # 2차원으로 축소\n",
        "            X_reduce = dim_reduction(X=X, n=2)\n",
        "\n",
        "            token_list = []\n",
        "            for _, sentence in sentences.items():\n",
        "                token_list.append(sentence.split())\n",
        "\n",
        "            file_name = \"{}_elmo_layer_{}.png\".format(word, layer)\n",
        "            title = \"Layer {} ELMo vectors of the word {}\".format(layer, word)\n",
        "            plot(word, token_list, X_reduce, file_name, title)"
      ],
      "execution_count": 0,
      "outputs": [
        {
          "output_type": "stream",
          "text": [
            "100%|██████████| 336/336 [00:00<00:00, 131610.58B/s]\n",
            "100%|██████████| 374434792/374434792 [00:05<00:00, 66786891.20B/s]\n"
          ],
          "name": "stderr"
        },
        {
          "output_type": "stream",
          "text": [
            "visualizing word plant using ELMo layer 1\n",
            "size of X: (47, 1024)\n",
            "size of reduced X: (47, 2)\n",
            "Variance retained ratio of PCA-1: 0.09539473801851273\n",
            "Variance retained ratio of PCA-2: 0.07188064604997635\n",
            "plant_elmo_layer_1.png saved\n",
            "\n",
            "visualizing word plant using ELMo layer 2\n",
            "size of X: (47, 1024)\n",
            "size of reduced X: (47, 2)\n",
            "Variance retained ratio of PCA-1: 0.10498975217342377\n",
            "Variance retained ratio of PCA-2: 0.07778076827526093\n",
            "plant_elmo_layer_2.png saved\n",
            "\n"
          ],
          "name": "stdout"
        },
        {
          "output_type": "display_data",
          "data": {
            "image/png": "[encoded data removed]",
            "text/plain": [
              "<Figure size 432x288 with 1 Axes>"
            ]
          },
          "metadata": {
            "tags": []
          }
        },
        {
          "output_type": "display_data",
          "data": {
            "image/png": "[encoded data removed]",
            "text/plain": [
              "<Figure size 432x288 with 1 Axes>"
            ]
          },
          "metadata": {
            "tags": []
          }
        }
      ]
    },
    {
      "cell_type": "code",
      "metadata": {
        "id": "KHr5ZPo3_Wu2",
        "colab_type": "code",
        "colab": {}
      },
      "source": [
        ""
      ],
      "execution_count": 0,
      "outputs": []
    }
  ]
}